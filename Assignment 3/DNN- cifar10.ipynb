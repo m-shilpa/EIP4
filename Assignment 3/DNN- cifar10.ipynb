{
  "nbformat": 4,
  "nbformat_minor": 0,
  "metadata": {
    "colab": {
      "name": "Assignment 3--80/82.ipynb",
      "provenance": [],
      "collapsed_sections": [],
      "include_colab_link": true
    },
    "kernelspec": {
      "name": "python3",
      "display_name": "Python 3"
    },
    "accelerator": "GPU"
  },
  "cells": [
    {
      "cell_type": "markdown",
      "metadata": {
        "id": "view-in-github",
        "colab_type": "text"
      },
      "source": [
        "<a href=\"https://colab.research.google.com/github/mshilpaa/Deep-Neural-Network/blob/master/Assignment%203/DNN-%20cifar10.ipynb\" target=\"_parent\"><img src=\"https://colab.research.google.com/assets/colab-badge.svg\" alt=\"Open In Colab\"/></a>"
      ]
    },
    {
      "cell_type": "code",
      "metadata": {
        "id": "KkwXnw9OfHZl",
        "colab_type": "code",
        "outputId": "a78a2fcf-fba7-4c70-d405-d1e267be2dfe",
        "colab": {
          "base_uri": "https://localhost:8080/",
          "height": 79
        }
      },
      "source": [
        "from keras import backend as K\n",
        "import time\n",
        "import matplotlib.pyplot as plt\n",
        "import numpy as np\n",
        "% matplotlib inline\n",
        "np.random.seed(2017) \n",
        "from keras.models import Sequential\n",
        "from keras.layers.convolutional import Convolution2D, MaxPooling2D\n",
        "from keras.layers import Activation, Flatten, Dense, Dropout\n",
        "from keras.layers.normalization import BatchNormalization\n",
        "from keras.utils import np_utils"
      ],
      "execution_count": 0,
      "outputs": [
        {
          "output_type": "stream",
          "text": [
            "Using TensorFlow backend.\n"
          ],
          "name": "stderr"
        },
        {
          "output_type": "display_data",
          "data": {
            "text/html": [
              "<p style=\"color: red;\">\n",
              "The default version of TensorFlow in Colab will soon switch to TensorFlow 2.x.<br>\n",
              "We recommend you <a href=\"https://www.tensorflow.org/guide/migrate\" target=\"_blank\">upgrade</a> now \n",
              "or ensure your notebook will continue to use TensorFlow 1.x via the <code>%tensorflow_version 1.x</code> magic:\n",
              "<a href=\"https://colab.research.google.com/notebooks/tensorflow_version.ipynb\" target=\"_blank\">more info</a>.</p>\n"
            ],
            "text/plain": [
              "<IPython.core.display.HTML object>"
            ]
          },
          "metadata": {
            "tags": []
          }
        }
      ]
    },
    {
      "cell_type": "code",
      "metadata": {
        "id": "NHpnoCHZfO8g",
        "colab_type": "code",
        "outputId": "d74ab61c-7229-4565-ea27-92ef59dfcfde",
        "colab": {
          "base_uri": "https://localhost:8080/",
          "height": 50
        }
      },
      "source": [
        "from keras.datasets import cifar10\n",
        "(train_features, train_labels), (test_features, test_labels) = cifar10.load_data()\n",
        "num_train, img_channels, img_rows, img_cols =  train_features.shape\n",
        "num_test, _, _, _ =  test_features.shape\n",
        "num_classes = len(np.unique(train_labels))"
      ],
      "execution_count": 0,
      "outputs": [
        {
          "output_type": "stream",
          "text": [
            "Downloading data from https://www.cs.toronto.edu/~kriz/cifar-10-python.tar.gz\n",
            "170500096/170498071 [==============================] - 6s 0us/step\n"
          ],
          "name": "stdout"
        }
      ]
    },
    {
      "cell_type": "code",
      "metadata": {
        "id": "-SZ5dZJUD77_",
        "colab_type": "code",
        "colab": {}
      },
      "source": [
        ""
      ],
      "execution_count": 0,
      "outputs": []
    },
    {
      "cell_type": "code",
      "metadata": {
        "id": "14HyBUXdfS6G",
        "colab_type": "code",
        "outputId": "1f3be7fa-7d8f-4109-8771-bf6915f8b8c1",
        "colab": {
          "base_uri": "https://localhost:8080/",
          "height": 213
        }
      },
      "source": [
        "class_names = ['airplane','automobile','bird','cat','deer',\n",
        "               'dog','frog','horse','ship','truck']\n",
        "fig = plt.figure(figsize=(8,3))\n",
        "for i in range(num_classes):\n",
        "    ax = fig.add_subplot(2, 5, 1 + i, xticks=[], yticks=[])\n",
        "    idx = np.where(train_labels[:]==i)[0]\n",
        "    features_idx = train_features[idx,::]\n",
        "    img_num = np.random.randint(features_idx.shape[0])\n",
        "    im = features_idx[img_num]\n",
        "    ax.set_title(class_names[i])\n",
        "    plt.imshow(im)\n",
        "plt.show()"
      ],
      "execution_count": 0,
      "outputs": [
        {
          "output_type": "display_data",
          "data": {
            "image/png": "[encoded data removed]",
            "text/plain": [
              "<Figure size 576x216 with 10 Axes>"
            ]
          },
          "metadata": {
            "tags": []
          }
        }
      ]
    },
    {
      "cell_type": "code",
      "metadata": {
        "id": "bmfsk76-fadV",
        "colab_type": "code",
        "colab": {}
      },
      "source": [
        "def plot_model_history(model_history):\n",
        "    fig, axs = plt.subplots(1,2,figsize=(15,5))\n",
        "    # summarize history for accuracy\n",
        "    axs[0].plot(range(1,len(model_history.history['acc'])+1),model_history.history['acc'])\n",
        "    axs[0].plot(range(1,len(model_history.history['val_acc'])+1),model_history.history['val_acc'])\n",
        "    axs[0].set_title('Model Accuracy')\n",
        "    axs[0].set_ylabel('Accuracy')\n",
        "    axs[0].set_xlabel('Epoch')\n",
        "    axs[0].set_xticks(np.arange(1,len(model_history.history['acc'])+1),len(model_history.history['acc'])/10)\n",
        "    axs[0].legend(['train', 'val'], loc='best')\n",
        "    # summarize history for loss\n",
        "    axs[1].plot(range(1,len(model_history.history['loss'])+1),model_history.history['loss'])\n",
        "    axs[1].plot(range(1,len(model_history.history['val_loss'])+1),model_history.history['val_loss'])\n",
        "    axs[1].set_title('Model Loss')\n",
        "    axs[1].set_ylabel('Loss')\n",
        "    axs[1].set_xlabel('Epoch')\n",
        "    axs[1].set_xticks(np.arange(1,len(model_history.history['loss'])+1),len(model_history.history['loss'])/10)\n",
        "    axs[1].legend(['train', 'val'], loc='best')\n",
        "    plt.show()"
      ],
      "execution_count": 0,
      "outputs": []
    },
    {
      "cell_type": "code",
      "metadata": {
        "id": "YJMT4rjgfdZz",
        "colab_type": "code",
        "colab": {}
      },
      "source": [
        "def accuracy(test_x, test_y, model):\n",
        "    result = model.predict(test_x)\n",
        "    predicted_class = np.argmax(result, axis=1)\n",
        "    true_class = np.argmax(test_y, axis=1)\n",
        "    num_correct = np.sum(predicted_class == true_class) \n",
        "    accuracy = float(num_correct)/result.shape[0]\n",
        "    return (accuracy * 100)"
      ],
      "execution_count": 0,
      "outputs": []
    },
    {
      "cell_type": "code",
      "metadata": {
        "id": "T5c5nDvxm6zR",
        "colab_type": "code",
        "colab": {}
      },
      "source": [
        "train_features = train_features.astype('float32')/255\n",
        "test_features = test_features.astype('float32')/255\n",
        "# convert class labels to binary class labels\n",
        "train_labels = np_utils.to_categorical(train_labels, num_classes)\n",
        "test_labels = np_utils.to_categorical(test_labels, num_classes)"
      ],
      "execution_count": 0,
      "outputs": []
    },
    {
      "cell_type": "code",
      "metadata": {
        "id": "cSOb2lkJfhVq",
        "colab_type": "code",
        "outputId": "e7bca328-9e2b-46f2-c4db-1315e761a264",
        "colab": {
          "base_uri": "https://localhost:8080/",
          "height": 524
        }
      },
      "source": [
        "# Define the model\n",
        "model = Sequential()\n",
        "model.add(Convolution2D(48, 3, 3, border_mode='same', input_shape=(32, 32, 3)))\n",
        "model.add(Activation('relu'))\n",
        "model.add(Convolution2D(48, 3, 3))\n",
        "model.add(Activation('relu'))\n",
        "model.add(MaxPooling2D(pool_size=(2, 2)))\n",
        "model.add(Dropout(0.25))\n",
        "model.add(Convolution2D(96, 3, 3, border_mode='same'))\n",
        "model.add(Activation('relu'))\n",
        "model.add(Convolution2D(96, 3, 3))\n",
        "model.add(Activation('relu'))\n",
        "model.add(MaxPooling2D(pool_size=(2, 2)))\n",
        "model.add(Dropout(0.25))\n",
        "model.add(Convolution2D(192, 3, 3, border_mode='same'))\n",
        "model.add(Activation('relu'))\n",
        "model.add(Convolution2D(192, 3, 3))\n",
        "model.add(Activation('relu'))\n",
        "model.add(MaxPooling2D(pool_size=(2, 2)))\n",
        "model.add(Dropout(0.25))\n",
        "model.add(Flatten())\n",
        "model.add(Dense(512))\n",
        "model.add(Activation('relu'))\n",
        "model.add(Dropout(0.5))\n",
        "model.add(Dense(256))\n",
        "model.add(Activation('relu'))\n",
        "model.add(Dropout(0.5))\n",
        "model.add(Dense(num_classes, activation='softmax'))\n",
        "# Compile the model\n",
        "model.compile(optimizer='adam', loss='categorical_crossentropy', metrics=['accuracy'])\n"
      ],
      "execution_count": 0,
      "outputs": [
        {
          "output_type": "stream",
          "text": [
            "WARNING:tensorflow:From /usr/local/lib/python3.6/dist-packages/keras/backend/tensorflow_backend.py:66: The name tf.get_default_graph is deprecated. Please use tf.compat.v1.get_default_graph instead.\n",
            "\n",
            "WARNING:tensorflow:From /usr/local/lib/python3.6/dist-packages/keras/backend/tensorflow_backend.py:541: The name tf.placeholder is deprecated. Please use tf.compat.v1.placeholder instead.\n",
            "\n",
            "WARNING:tensorflow:From /usr/local/lib/python3.6/dist-packages/keras/backend/tensorflow_backend.py:4432: The name tf.random_uniform is deprecated. Please use tf.random.uniform instead.\n",
            "\n",
            "WARNING:tensorflow:From /usr/local/lib/python3.6/dist-packages/keras/backend/tensorflow_backend.py:4267: The name tf.nn.max_pool is deprecated. Please use tf.nn.max_pool2d instead.\n",
            "\n",
            "WARNING:tensorflow:From /usr/local/lib/python3.6/dist-packages/keras/backend/tensorflow_backend.py:148: The name tf.placeholder_with_default is deprecated. Please use tf.compat.v1.placeholder_with_default instead.\n",
            "\n",
            "WARNING:tensorflow:From /usr/local/lib/python3.6/dist-packages/keras/backend/tensorflow_backend.py:3733: calling dropout (from tensorflow.python.ops.nn_ops) with keep_prob is deprecated and will be removed in a future version.\n",
            "Instructions for updating:\n",
            "Please use `rate` instead of `keep_prob`. Rate should be set to `rate = 1 - keep_prob`.\n",
            "WARNING:tensorflow:From /usr/local/lib/python3.6/dist-packages/keras/optimizers.py:793: The name tf.train.Optimizer is deprecated. Please use tf.compat.v1.train.Optimizer instead.\n",
            "\n"
          ],
          "name": "stdout"
        },
        {
          "output_type": "stream",
          "text": [
            "/usr/local/lib/python3.6/dist-packages/ipykernel_launcher.py:2: UserWarning: Update your `Conv2D` call to the Keras 2 API: `Conv2D(48, (3, 3), input_shape=(32, 32, 3..., padding=\"same\")`\n",
            "  \n",
            "/usr/local/lib/python3.6/dist-packages/ipykernel_launcher.py:4: UserWarning: Update your `Conv2D` call to the Keras 2 API: `Conv2D(48, (3, 3))`\n",
            "  after removing the cwd from sys.path.\n",
            "/usr/local/lib/python3.6/dist-packages/ipykernel_launcher.py:8: UserWarning: Update your `Conv2D` call to the Keras 2 API: `Conv2D(96, (3, 3), padding=\"same\")`\n",
            "  \n",
            "/usr/local/lib/python3.6/dist-packages/ipykernel_launcher.py:10: UserWarning: Update your `Conv2D` call to the Keras 2 API: `Conv2D(96, (3, 3))`\n",
            "  # Remove the CWD from sys.path while we load stuff.\n",
            "/usr/local/lib/python3.6/dist-packages/ipykernel_launcher.py:14: UserWarning: Update your `Conv2D` call to the Keras 2 API: `Conv2D(192, (3, 3), padding=\"same\")`\n",
            "  \n",
            "/usr/local/lib/python3.6/dist-packages/ipykernel_launcher.py:16: UserWarning: Update your `Conv2D` call to the Keras 2 API: `Conv2D(192, (3, 3))`\n",
            "  app.launch_new_instance()\n"
          ],
          "name": "stderr"
        },
        {
          "output_type": "stream",
          "text": [
            "WARNING:tensorflow:From /usr/local/lib/python3.6/dist-packages/keras/backend/tensorflow_backend.py:3576: The name tf.log is deprecated. Please use tf.math.log instead.\n",
            "\n"
          ],
          "name": "stdout"
        }
      ]
    },
    {
      "cell_type": "code",
      "metadata": {
        "id": "wvVs5tC8mR6Q",
        "colab_type": "code",
        "outputId": "745ae489-b57a-485a-cc50-6d2dc561f525",
        "colab": {
          "base_uri": "https://localhost:8080/",
          "height": 1000
        }
      },
      "source": [
        "model.summary()"
      ],
      "execution_count": 0,
      "outputs": [
        {
          "output_type": "stream",
          "text": [
            "Model: \"sequential_1\"\n",
            "_________________________________________________________________\n",
            "Layer (type)                 Output Shape              Param #   \n",
            "=================================================================\n",
            "conv2d_1 (Conv2D)            (None, 32, 32, 48)        1344      \n",
            "_________________________________________________________________\n",
            "activation_1 (Activation)    (None, 32, 32, 48)        0         \n",
            "_________________________________________________________________\n",
            "conv2d_2 (Conv2D)            (None, 30, 30, 48)        20784     \n",
            "_________________________________________________________________\n",
            "activation_2 (Activation)    (None, 30, 30, 48)        0         \n",
            "_________________________________________________________________\n",
            "max_pooling2d_1 (MaxPooling2 (None, 15, 15, 48)        0         \n",
            "_________________________________________________________________\n",
            "dropout_1 (Dropout)          (None, 15, 15, 48)        0         \n",
            "_________________________________________________________________\n",
            "conv2d_3 (Conv2D)            (None, 15, 15, 96)        41568     \n",
            "_________________________________________________________________\n",
            "activation_3 (Activation)    (None, 15, 15, 96)        0         \n",
            "_________________________________________________________________\n",
            "conv2d_4 (Conv2D)            (None, 13, 13, 96)        83040     \n",
            "_________________________________________________________________\n",
            "activation_4 (Activation)    (None, 13, 13, 96)        0         \n",
            "_________________________________________________________________\n",
            "max_pooling2d_2 (MaxPooling2 (None, 6, 6, 96)          0         \n",
            "_________________________________________________________________\n",
            "dropout_2 (Dropout)          (None, 6, 6, 96)          0         \n",
            "_________________________________________________________________\n",
            "conv2d_5 (Conv2D)            (None, 6, 6, 192)         166080    \n",
            "_________________________________________________________________\n",
            "activation_5 (Activation)    (None, 6, 6, 192)         0         \n",
            "_________________________________________________________________\n",
            "conv2d_6 (Conv2D)            (None, 4, 4, 192)         331968    \n",
            "_________________________________________________________________\n",
            "activation_6 (Activation)    (None, 4, 4, 192)         0         \n",
            "_________________________________________________________________\n",
            "max_pooling2d_3 (MaxPooling2 (None, 2, 2, 192)         0         \n",
            "_________________________________________________________________\n",
            "dropout_3 (Dropout)          (None, 2, 2, 192)         0         \n",
            "_________________________________________________________________\n",
            "flatten_1 (Flatten)          (None, 768)               0         \n",
            "_________________________________________________________________\n",
            "dense_1 (Dense)              (None, 512)               393728    \n",
            "_________________________________________________________________\n",
            "activation_7 (Activation)    (None, 512)               0         \n",
            "_________________________________________________________________\n",
            "dropout_4 (Dropout)          (None, 512)               0         \n",
            "_________________________________________________________________\n",
            "dense_2 (Dense)              (None, 256)               131328    \n",
            "_________________________________________________________________\n",
            "activation_8 (Activation)    (None, 256)               0         \n",
            "_________________________________________________________________\n",
            "dropout_5 (Dropout)          (None, 256)               0         \n",
            "_________________________________________________________________\n",
            "dense_3 (Dense)              (None, 10)                2570      \n",
            "=================================================================\n",
            "Total params: 1,172,410\n",
            "Trainable params: 1,172,410\n",
            "Non-trainable params: 0\n",
            "_________________________________________________________________\n"
          ],
          "name": "stdout"
        }
      ]
    },
    {
      "cell_type": "code",
      "metadata": {
        "id": "5oK_V7WyfsXX",
        "colab_type": "code",
        "outputId": "1d34ee1b-ef79-422a-b978-842c8a494bb1",
        "colab": {
          "base_uri": "https://localhost:8080/",
          "height": 1000
        }
      },
      "source": [
        "from keras.preprocessing.image import ImageDataGenerator\n",
        "\n",
        "datagen = ImageDataGenerator(zoom_range=0.0, \n",
        "                             horizontal_flip=False)\n",
        "\n",
        "\n",
        "# train the model\n",
        "start = time.time()\n",
        "# Train the model\n",
        "model_info = model.fit_generator(datagen.flow(train_features, train_labels, batch_size = 128),\n",
        "                                 samples_per_epoch = train_features.shape[0], nb_epoch = 50, \n",
        "                                 validation_data = (test_features, test_labels), verbose=1)\n",
        "end = time.time()\n",
        "print (\"Model took %0.2f seconds to train\"%(end - start))\n",
        "# plot model history\n",
        "plot_model_history(model_info)\n",
        "# compute test accuracy\n",
        "print (\"Accuracy on test data is: %0.2f\"%accuracy(test_features, test_labels, model))"
      ],
      "execution_count": 0,
      "outputs": [
        {
          "output_type": "stream",
          "text": [
            "WARNING:tensorflow:From /usr/local/lib/python3.6/dist-packages/tensorflow_core/python/ops/math_grad.py:1424: where (from tensorflow.python.ops.array_ops) is deprecated and will be removed in a future version.\n",
            "Instructions for updating:\n",
            "Use tf.where in 2.0, which has the same broadcast rule as np.where\n"
          ],
          "name": "stdout"
        },
        {
          "output_type": "stream",
          "text": [
            "/usr/local/lib/python3.6/dist-packages/ipykernel_launcher.py:12: UserWarning: The semantics of the Keras 2 argument `steps_per_epoch` is not the same as the Keras 1 argument `samples_per_epoch`. `steps_per_epoch` is the number of batches to draw from the generator at each epoch. Basically steps_per_epoch = samples_per_epoch/batch_size. Similarly `nb_val_samples`->`validation_steps` and `val_samples`->`steps` arguments have changed. Update your method calls accordingly.\n",
            "  if sys.path[0] == '':\n",
            "/usr/local/lib/python3.6/dist-packages/ipykernel_launcher.py:12: UserWarning: Update your `fit_generator` call to the Keras 2 API: `fit_generator(<keras_pre..., validation_data=(array([[[..., verbose=1, steps_per_epoch=390, epochs=50)`\n",
            "  if sys.path[0] == '':\n"
          ],
          "name": "stderr"
        },
        {
          "output_type": "stream",
          "text": [
            "WARNING:tensorflow:From /usr/local/lib/python3.6/dist-packages/keras/backend/tensorflow_backend.py:1033: The name tf.assign_add is deprecated. Please use tf.compat.v1.assign_add instead.\n",
            "\n",
            "WARNING:tensorflow:From /usr/local/lib/python3.6/dist-packages/keras/backend/tensorflow_backend.py:1020: The name tf.assign is deprecated. Please use tf.compat.v1.assign instead.\n",
            "\n",
            "WARNING:tensorflow:From /usr/local/lib/python3.6/dist-packages/keras/backend/tensorflow_backend.py:3005: The name tf.Session is deprecated. Please use tf.compat.v1.Session instead.\n",
            "\n",
            "Epoch 1/50\n",
            "WARNING:tensorflow:From /usr/local/lib/python3.6/dist-packages/keras/backend/tensorflow_backend.py:190: The name tf.get_default_session is deprecated. Please use tf.compat.v1.get_default_session instead.\n",
            "\n",
            "WARNING:tensorflow:From /usr/local/lib/python3.6/dist-packages/keras/backend/tensorflow_backend.py:197: The name tf.ConfigProto is deprecated. Please use tf.compat.v1.ConfigProto instead.\n",
            "\n",
            "WARNING:tensorflow:From /usr/local/lib/python3.6/dist-packages/keras/backend/tensorflow_backend.py:207: The name tf.global_variables is deprecated. Please use tf.compat.v1.global_variables instead.\n",
            "\n",
            "WARNING:tensorflow:From /usr/local/lib/python3.6/dist-packages/keras/backend/tensorflow_backend.py:216: The name tf.is_variable_initialized is deprecated. Please use tf.compat.v1.is_variable_initialized instead.\n",
            "\n",
            "WARNING:tensorflow:From /usr/local/lib/python3.6/dist-packages/keras/backend/tensorflow_backend.py:223: The name tf.variables_initializer is deprecated. Please use tf.compat.v1.variables_initializer instead.\n",
            "\n",
            "390/390 [==============================] - 14s 36ms/step - loss: 1.8439 - acc: 0.2954 - val_loss: 1.4919 - val_acc: 0.4561\n",
            "Epoch 2/50\n",
            "390/390 [==============================] - 6s 17ms/step - loss: 1.3352 - acc: 0.5180 - val_loss: 1.1041 - val_acc: 0.6095\n",
            "Epoch 3/50\n",
            "390/390 [==============================] - 6s 16ms/step - loss: 1.1026 - acc: 0.6117 - val_loss: 0.9364 - val_acc: 0.6677\n",
            "Epoch 4/50\n",
            "390/390 [==============================] - 7s 17ms/step - loss: 0.9570 - acc: 0.6656 - val_loss: 0.8221 - val_acc: 0.7094\n",
            "Epoch 5/50\n",
            "390/390 [==============================] - 6s 17ms/step - loss: 0.8591 - acc: 0.7041 - val_loss: 0.7719 - val_acc: 0.7318\n",
            "Epoch 6/50\n",
            "390/390 [==============================] - 6s 17ms/step - loss: 0.7851 - acc: 0.7316 - val_loss: 0.7158 - val_acc: 0.7545\n",
            "Epoch 7/50\n",
            "390/390 [==============================] - 7s 17ms/step - loss: 0.7290 - acc: 0.7509 - val_loss: 0.7028 - val_acc: 0.7559\n",
            "Epoch 8/50\n",
            "390/390 [==============================] - 6s 17ms/step - loss: 0.6827 - acc: 0.7661 - val_loss: 0.6582 - val_acc: 0.7773\n",
            "Epoch 9/50\n",
            "390/390 [==============================] - 7s 17ms/step - loss: 0.6456 - acc: 0.7788 - val_loss: 0.6686 - val_acc: 0.7764\n",
            "Epoch 10/50\n",
            "390/390 [==============================] - 7s 17ms/step - loss: 0.6170 - acc: 0.7919 - val_loss: 0.6177 - val_acc: 0.7959\n",
            "Epoch 11/50\n",
            "390/390 [==============================] - 7s 17ms/step - loss: 0.5880 - acc: 0.8009 - val_loss: 0.6175 - val_acc: 0.7918\n",
            "Epoch 12/50\n",
            "390/390 [==============================] - 7s 17ms/step - loss: 0.5699 - acc: 0.8062 - val_loss: 0.6145 - val_acc: 0.7977\n",
            "Epoch 13/50\n",
            "390/390 [==============================] - 7s 17ms/step - loss: 0.5458 - acc: 0.8153 - val_loss: 0.6296 - val_acc: 0.7910\n",
            "Epoch 14/50\n",
            "390/390 [==============================] - 7s 17ms/step - loss: 0.5250 - acc: 0.8226 - val_loss: 0.6013 - val_acc: 0.8004\n",
            "Epoch 15/50\n",
            "390/390 [==============================] - 7s 17ms/step - loss: 0.5106 - acc: 0.8258 - val_loss: 0.5877 - val_acc: 0.8025\n",
            "Epoch 16/50\n",
            "390/390 [==============================] - 7s 17ms/step - loss: 0.4940 - acc: 0.8331 - val_loss: 0.5959 - val_acc: 0.8000\n",
            "Epoch 17/50\n",
            "390/390 [==============================] - 7s 17ms/step - loss: 0.4811 - acc: 0.8366 - val_loss: 0.5713 - val_acc: 0.8090\n",
            "Epoch 18/50\n",
            "390/390 [==============================] - 7s 17ms/step - loss: 0.4678 - acc: 0.8399 - val_loss: 0.5731 - val_acc: 0.8146\n",
            "Epoch 19/50\n",
            "390/390 [==============================] - 6s 17ms/step - loss: 0.4587 - acc: 0.8426 - val_loss: 0.5702 - val_acc: 0.8109\n",
            "Epoch 20/50\n",
            "390/390 [==============================] - 7s 17ms/step - loss: 0.4558 - acc: 0.8454 - val_loss: 0.5577 - val_acc: 0.8170\n",
            "Epoch 21/50\n",
            "390/390 [==============================] - 7s 17ms/step - loss: 0.4370 - acc: 0.8515 - val_loss: 0.5760 - val_acc: 0.8124\n",
            "Epoch 22/50\n",
            "390/390 [==============================] - 6s 17ms/step - loss: 0.4280 - acc: 0.8556 - val_loss: 0.5973 - val_acc: 0.8091\n",
            "Epoch 23/50\n",
            "390/390 [==============================] - 6s 17ms/step - loss: 0.4230 - acc: 0.8557 - val_loss: 0.5992 - val_acc: 0.8117\n",
            "Epoch 24/50\n",
            "390/390 [==============================] - 7s 17ms/step - loss: 0.4140 - acc: 0.8607 - val_loss: 0.6084 - val_acc: 0.8100\n",
            "Epoch 25/50\n",
            "390/390 [==============================] - 6s 16ms/step - loss: 0.4003 - acc: 0.8635 - val_loss: 0.6061 - val_acc: 0.8135\n",
            "Epoch 26/50\n",
            "390/390 [==============================] - 7s 17ms/step - loss: 0.4007 - acc: 0.8653 - val_loss: 0.5655 - val_acc: 0.8222\n",
            "Epoch 27/50\n",
            "390/390 [==============================] - 7s 17ms/step - loss: 0.3895 - acc: 0.8677 - val_loss: 0.5997 - val_acc: 0.8170\n",
            "Epoch 28/50\n",
            "390/390 [==============================] - 7s 17ms/step - loss: 0.3841 - acc: 0.8695 - val_loss: 0.5821 - val_acc: 0.8165\n",
            "Epoch 29/50\n",
            "390/390 [==============================] - 7s 17ms/step - loss: 0.3781 - acc: 0.8716 - val_loss: 0.5871 - val_acc: 0.8209\n",
            "Epoch 30/50\n",
            "390/390 [==============================] - 7s 17ms/step - loss: 0.3800 - acc: 0.8712 - val_loss: 0.5883 - val_acc: 0.8174\n",
            "Epoch 31/50\n",
            "390/390 [==============================] - 7s 17ms/step - loss: 0.3652 - acc: 0.8757 - val_loss: 0.5855 - val_acc: 0.8154\n",
            "Epoch 32/50\n",
            "390/390 [==============================] - 7s 17ms/step - loss: 0.3684 - acc: 0.8758 - val_loss: 0.5928 - val_acc: 0.8165\n",
            "Epoch 33/50\n",
            "390/390 [==============================] - 7s 17ms/step - loss: 0.3549 - acc: 0.8792 - val_loss: 0.6107 - val_acc: 0.8187\n",
            "Epoch 34/50\n",
            "390/390 [==============================] - 6s 17ms/step - loss: 0.3532 - acc: 0.8797 - val_loss: 0.5954 - val_acc: 0.8179\n",
            "Epoch 35/50\n",
            "390/390 [==============================] - 6s 17ms/step - loss: 0.3482 - acc: 0.8809 - val_loss: 0.6018 - val_acc: 0.8166\n",
            "Epoch 36/50\n",
            "390/390 [==============================] - 7s 17ms/step - loss: 0.3488 - acc: 0.8834 - val_loss: 0.5592 - val_acc: 0.8236\n",
            "Epoch 37/50\n",
            "390/390 [==============================] - 6s 17ms/step - loss: 0.3411 - acc: 0.8855 - val_loss: 0.5742 - val_acc: 0.8236\n",
            "Epoch 38/50\n",
            "390/390 [==============================] - 6s 17ms/step - loss: 0.3429 - acc: 0.8864 - val_loss: 0.5655 - val_acc: 0.8225\n",
            "Epoch 39/50\n",
            "390/390 [==============================] - 7s 17ms/step - loss: 0.3341 - acc: 0.8884 - val_loss: 0.5896 - val_acc: 0.8210\n",
            "Epoch 40/50\n",
            "390/390 [==============================] - 7s 17ms/step - loss: 0.3334 - acc: 0.8884 - val_loss: 0.5796 - val_acc: 0.8284\n",
            "Epoch 41/50\n",
            "390/390 [==============================] - 7s 17ms/step - loss: 0.3335 - acc: 0.8884 - val_loss: 0.5973 - val_acc: 0.8164\n",
            "Epoch 42/50\n",
            "390/390 [==============================] - 6s 17ms/step - loss: 0.3201 - acc: 0.8931 - val_loss: 0.5814 - val_acc: 0.8247\n",
            "Epoch 43/50\n",
            "390/390 [==============================] - 6s 16ms/step - loss: 0.3161 - acc: 0.8948 - val_loss: 0.5824 - val_acc: 0.8280\n",
            "Epoch 44/50\n",
            "390/390 [==============================] - 7s 17ms/step - loss: 0.3148 - acc: 0.8963 - val_loss: 0.5735 - val_acc: 0.8298\n",
            "Epoch 45/50\n",
            "390/390 [==============================] - 7s 17ms/step - loss: 0.3124 - acc: 0.8979 - val_loss: 0.6023 - val_acc: 0.8235\n",
            "Epoch 46/50\n",
            "390/390 [==============================] - 7s 17ms/step - loss: 0.3086 - acc: 0.8990 - val_loss: 0.6039 - val_acc: 0.8179\n",
            "Epoch 47/50\n",
            "390/390 [==============================] - 7s 17ms/step - loss: 0.3078 - acc: 0.8978 - val_loss: 0.6052 - val_acc: 0.8225\n",
            "Epoch 48/50\n",
            "390/390 [==============================] - 7s 17ms/step - loss: 0.3075 - acc: 0.8994 - val_loss: 0.6095 - val_acc: 0.8250\n",
            "Epoch 49/50\n",
            "390/390 [==============================] - 7s 17ms/step - loss: 0.3034 - acc: 0.8992 - val_loss: 0.6385 - val_acc: 0.8175\n",
            "Epoch 50/50\n",
            "390/390 [==============================] - 7s 17ms/step - loss: 0.2980 - acc: 0.9014 - val_loss: 0.6002 - val_acc: 0.8261\n",
            "Model took 334.51 seconds to train\n"
          ],
          "name": "stdout"
        },
        {
          "output_type": "display_data",
          "data": {
            "image/png": "[encoded data removed]",
            "text/plain": [
              "<Figure size 1080x360 with 2 Axes>"
            ]
          },
          "metadata": {
            "tags": []
          }
        },
        {
          "output_type": "stream",
          "text": [
            "Accuracy on test data is: 82.61\n"
          ],
          "name": "stdout"
        }
      ]
    },
    {
      "cell_type": "code",
      "metadata": {
        "id": "A-sRw32NDvjx",
        "colab_type": "code",
        "colab": {}
      },
      "source": [
        "from keras.layers.convolutional import SeparableConv2D,DepthwiseConv2D\n",
        "from keras.layers import GlobalAveragePooling2D"
      ],
      "execution_count": 0,
      "outputs": []
    },
    {
      "cell_type": "code",
      "metadata": {
        "id": "5qxNABiG9wFz",
        "colab_type": "code",
        "outputId": "e8523a0e-1cc8-4615-9b97-f57cdd6e58fc",
        "colab": {
          "base_uri": "https://localhost:8080/",
          "height": 171
        }
      },
      "source": [
        "\n",
        "model = Sequential()\n",
        "model.add(SeparableConv2D(32, kernel_size=(3, 3), activation='relu', strides=(1,1), input_shape=(32,32,3))) \n",
        "model.add(Convolution2D(32, 1, 1))\n",
        "# model.add(GlobalAveragePooling2D())\n",
        "model.add(BatchNormalization())\n",
        "model.add(Dropout(0.15))\n",
        "\n",
        "model.add(SeparableConv2D(64, kernel_size=(3, 3), activation='relu',strides=(2,2))) # \n",
        "model.add(Convolution2D(64, 1, 1))\n",
        "# model.add(GlobalAveragePooling2D())\n",
        "model.add(BatchNormalization())\n",
        "model.add(Dropout(0.15))\n",
        "\n",
        "model.add(SeparableConv2D(128, kernel_size=(3, 3), activation='relu',strides=(1,1))) \n",
        "model.add(Convolution2D(128, 1, 1))\n",
        "# model.add(GlobalAveragePooling2D())\n",
        "model.add(BatchNormalization())\n",
        "model.add(Dropout(0.15))\n",
        "\n",
        "model.add(SeparableConv2D(256, kernel_size=(3, 3), activation='relu',strides=(2,2))) # \n",
        "\n",
        "model.add(BatchNormalization())\n",
        "model.add(Dropout(0.15))\n",
        "\n",
        "model.add(SeparableConv2D(10, kernel_size=(5, 5), activation='relu',strides=(1,1))) # \n",
        "# model.add(GlobalAveragePooling2D())\n",
        "model.add(Flatten())\n",
        "model.add(Activation('softmax'))\n",
        "\n"
      ],
      "execution_count": 0,
      "outputs": [
        {
          "output_type": "stream",
          "text": [
            "WARNING:tensorflow:From /usr/local/lib/python3.6/dist-packages/keras/backend/tensorflow_backend.py:2041: The name tf.nn.fused_batch_norm is deprecated. Please use tf.compat.v1.nn.fused_batch_norm instead.\n",
            "\n"
          ],
          "name": "stdout"
        },
        {
          "output_type": "stream",
          "text": [
            "/usr/local/lib/python3.6/dist-packages/ipykernel_launcher.py:4: UserWarning: Update your `Conv2D` call to the Keras 2 API: `Conv2D(32, (1, 1))`\n",
            "  after removing the cwd from sys.path.\n",
            "/usr/local/lib/python3.6/dist-packages/ipykernel_launcher.py:10: UserWarning: Update your `Conv2D` call to the Keras 2 API: `Conv2D(64, (1, 1))`\n",
            "  # Remove the CWD from sys.path while we load stuff.\n",
            "/usr/local/lib/python3.6/dist-packages/ipykernel_launcher.py:16: UserWarning: Update your `Conv2D` call to the Keras 2 API: `Conv2D(128, (1, 1))`\n",
            "  app.launch_new_instance()\n"
          ],
          "name": "stderr"
        }
      ]
    },
    {
      "cell_type": "code",
      "metadata": {
        "id": "0yegPSWZ_dPl",
        "colab_type": "code",
        "colab": {}
      },
      "source": [
        "# Compile the model\n",
        "from keras.callbacks import LearningRateScheduler\n",
        "def scheduler(epoch, lr):\n",
        "  return round(0.003 * 1/(1 + 0.319 * epoch), 10)\n",
        "model.compile(optimizer='adam', loss='categorical_crossentropy', metrics=['accuracy'])"
      ],
      "execution_count": 0,
      "outputs": []
    },
    {
      "cell_type": "code",
      "metadata": {
        "id": "F5vwih-hDl4Y",
        "colab_type": "code",
        "outputId": "63ae9816-ecbb-4d07-acbd-25f5a267c0de",
        "colab": {
          "base_uri": "https://localhost:8080/",
          "height": 756
        }
      },
      "source": [
        "model.summary()"
      ],
      "execution_count": 0,
      "outputs": [
        {
          "output_type": "stream",
          "text": [
            "Model: \"sequential_2\"\n",
            "_________________________________________________________________\n",
            "Layer (type)                 Output Shape              Param #   \n",
            "=================================================================\n",
            "separable_conv2d_1 (Separabl (None, 30, 30, 32)        155       \n",
            "_________________________________________________________________\n",
            "conv2d_7 (Conv2D)            (None, 30, 30, 32)        1056      \n",
            "_________________________________________________________________\n",
            "batch_normalization_1 (Batch (None, 30, 30, 32)        128       \n",
            "_________________________________________________________________\n",
            "dropout_6 (Dropout)          (None, 30, 30, 32)        0         \n",
            "_________________________________________________________________\n",
            "separable_conv2d_2 (Separabl (None, 14, 14, 64)        2400      \n",
            "_________________________________________________________________\n",
            "conv2d_8 (Conv2D)            (None, 14, 14, 64)        4160      \n",
            "_________________________________________________________________\n",
            "batch_normalization_2 (Batch (None, 14, 14, 64)        256       \n",
            "_________________________________________________________________\n",
            "dropout_7 (Dropout)          (None, 14, 14, 64)        0         \n",
            "_________________________________________________________________\n",
            "separable_conv2d_3 (Separabl (None, 12, 12, 128)       8896      \n",
            "_________________________________________________________________\n",
            "conv2d_9 (Conv2D)            (None, 12, 12, 128)       16512     \n",
            "_________________________________________________________________\n",
            "batch_normalization_3 (Batch (None, 12, 12, 128)       512       \n",
            "_________________________________________________________________\n",
            "dropout_8 (Dropout)          (None, 12, 12, 128)       0         \n",
            "_________________________________________________________________\n",
            "separable_conv2d_4 (Separabl (None, 5, 5, 256)         34176     \n",
            "_________________________________________________________________\n",
            "batch_normalization_4 (Batch (None, 5, 5, 256)         1024      \n",
            "_________________________________________________________________\n",
            "dropout_9 (Dropout)          (None, 5, 5, 256)         0         \n",
            "_________________________________________________________________\n",
            "separable_conv2d_5 (Separabl (None, 1, 1, 10)          8970      \n",
            "_________________________________________________________________\n",
            "flatten_2 (Flatten)          (None, 10)                0         \n",
            "_________________________________________________________________\n",
            "activation_9 (Activation)    (None, 10)                0         \n",
            "=================================================================\n",
            "Total params: 78,245\n",
            "Trainable params: 77,285\n",
            "Non-trainable params: 960\n",
            "_________________________________________________________________\n"
          ],
          "name": "stdout"
        }
      ]
    },
    {
      "cell_type": "code",
      "metadata": {
        "id": "0OKNbKpKFpeW",
        "colab_type": "code",
        "outputId": "e75ee3fc-397d-47bb-97f5-10a35ba02a03",
        "colab": {
          "base_uri": "https://localhost:8080/",
          "height": 1000
        }
      },
      "source": [
        "datagen = ImageDataGenerator(zoom_range=0.0, \n",
        "                             horizontal_flip=False)\n",
        "\n",
        "\n",
        "# train the model\n",
        "start = time.time()\n",
        "# Train the model\n",
        "model_info = model.fit_generator(datagen.flow(train_features, train_labels, batch_size = 32),\n",
        "                                 samples_per_epoch = train_features.shape[0], nb_epoch = 50, \n",
        "                                 validation_data = (test_features, test_labels), verbose=1, callbacks=[LearningRateScheduler(scheduler, verbose=1)])\n",
        "end = time.time()\n",
        "print (\"Model took %0.2f seconds to train\"%(end - start))\n",
        "# plot model history\n",
        "plot_model_history(model_info)\n",
        "# compute test accuracy\n",
        "print (\"Accuracy on test data is: %0.2f\"%accuracy(test_features, test_labels, model))"
      ],
      "execution_count": 0,
      "outputs": [
        {
          "output_type": "stream",
          "text": [
            "/usr/local/lib/python3.6/dist-packages/ipykernel_launcher.py:10: UserWarning: The semantics of the Keras 2 argument `steps_per_epoch` is not the same as the Keras 1 argument `samples_per_epoch`. `steps_per_epoch` is the number of batches to draw from the generator at each epoch. Basically steps_per_epoch = samples_per_epoch/batch_size. Similarly `nb_val_samples`->`validation_steps` and `val_samples`->`steps` arguments have changed. Update your method calls accordingly.\n",
            "  # Remove the CWD from sys.path while we load stuff.\n",
            "/usr/local/lib/python3.6/dist-packages/ipykernel_launcher.py:10: UserWarning: Update your `fit_generator` call to the Keras 2 API: `fit_generator(<keras_pre..., validation_data=(array([[[..., verbose=1, callbacks=[<keras.ca..., steps_per_epoch=1562, epochs=50)`\n",
            "  # Remove the CWD from sys.path while we load stuff.\n"
          ],
          "name": "stderr"
        },
        {
          "output_type": "stream",
          "text": [
            "Epoch 1/50\n",
            "\n",
            "Epoch 00001: LearningRateScheduler setting learning rate to 0.003.\n",
            "1562/1562 [==============================] - 21s 13ms/step - loss: 1.3588 - acc: 0.5207 - val_loss: 1.2498 - val_acc: 0.5843\n",
            "Epoch 2/50\n",
            "\n",
            "Epoch 00002: LearningRateScheduler setting learning rate to 0.0022744503.\n",
            "1562/1562 [==============================] - 19s 12ms/step - loss: 1.0069 - acc: 0.6504 - val_loss: 0.9416 - val_acc: 0.6749\n",
            "Epoch 3/50\n",
            "\n",
            "Epoch 00003: LearningRateScheduler setting learning rate to 0.0018315018.\n",
            "1562/1562 [==============================] - 19s 12ms/step - loss: 0.8797 - acc: 0.6940 - val_loss: 1.0726 - val_acc: 0.6403\n",
            "Epoch 4/50\n",
            "\n",
            "Epoch 00004: LearningRateScheduler setting learning rate to 0.0015329586.\n",
            "1562/1562 [==============================] - 20s 13ms/step - loss: 0.8005 - acc: 0.7216 - val_loss: 0.8252 - val_acc: 0.7170\n",
            "Epoch 5/50\n",
            "\n",
            "Epoch 00005: LearningRateScheduler setting learning rate to 0.0013181019.\n",
            "1562/1562 [==============================] - 20s 13ms/step - loss: 0.7438 - acc: 0.7415 - val_loss: 0.7521 - val_acc: 0.7419\n",
            "Epoch 6/50\n",
            "\n",
            "Epoch 00006: LearningRateScheduler setting learning rate to 0.0011560694.\n",
            "1562/1562 [==============================] - 20s 13ms/step - loss: 0.6986 - acc: 0.7571 - val_loss: 0.7112 - val_acc: 0.7565\n",
            "Epoch 7/50\n",
            "\n",
            "Epoch 00007: LearningRateScheduler setting learning rate to 0.0010295127.\n",
            "1562/1562 [==============================] - 20s 13ms/step - loss: 0.6638 - acc: 0.7699 - val_loss: 0.7264 - val_acc: 0.7484\n",
            "Epoch 8/50\n",
            "\n",
            "Epoch 00008: LearningRateScheduler setting learning rate to 0.0009279307.\n",
            "1562/1562 [==============================] - 19s 12ms/step - loss: 0.6401 - acc: 0.7776 - val_loss: 0.6790 - val_acc: 0.7667\n",
            "Epoch 9/50\n",
            "\n",
            "Epoch 00009: LearningRateScheduler setting learning rate to 0.0008445946.\n",
            "1562/1562 [==============================] - 20s 13ms/step - loss: 0.6150 - acc: 0.7867 - val_loss: 0.6665 - val_acc: 0.7714\n",
            "Epoch 10/50\n",
            "\n",
            "Epoch 00010: LearningRateScheduler setting learning rate to 0.0007749935.\n",
            "1562/1562 [==============================] - 20s 13ms/step - loss: 0.5847 - acc: 0.7962 - val_loss: 0.6744 - val_acc: 0.7706\n",
            "Epoch 11/50\n",
            "\n",
            "Epoch 00011: LearningRateScheduler setting learning rate to 0.0007159905.\n",
            "1562/1562 [==============================] - 20s 13ms/step - loss: 0.5719 - acc: 0.8004 - val_loss: 0.6639 - val_acc: 0.7760\n",
            "Epoch 12/50\n",
            "\n",
            "Epoch 00012: LearningRateScheduler setting learning rate to 0.000665336.\n",
            "1562/1562 [==============================] - 20s 13ms/step - loss: 0.5572 - acc: 0.8056 - val_loss: 0.6440 - val_acc: 0.7805\n",
            "Epoch 13/50\n",
            "\n",
            "Epoch 00013: LearningRateScheduler setting learning rate to 0.0006213753.\n",
            "1562/1562 [==============================] - 20s 13ms/step - loss: 0.5441 - acc: 0.8113 - val_loss: 0.7014 - val_acc: 0.7651\n",
            "Epoch 14/50\n",
            "\n",
            "Epoch 00014: LearningRateScheduler setting learning rate to 0.0005828638.\n",
            "1562/1562 [==============================] - 20s 13ms/step - loss: 0.5281 - acc: 0.8148 - val_loss: 0.6430 - val_acc: 0.7821\n",
            "Epoch 15/50\n",
            "\n",
            "Epoch 00015: LearningRateScheduler setting learning rate to 0.0005488474.\n",
            "1562/1562 [==============================] - 20s 13ms/step - loss: 0.5144 - acc: 0.8220 - val_loss: 0.6297 - val_acc: 0.7852\n",
            "Epoch 16/50\n",
            "\n",
            "Epoch 00016: LearningRateScheduler setting learning rate to 0.0005185825.\n",
            "1562/1562 [==============================] - 20s 13ms/step - loss: 0.5047 - acc: 0.8227 - val_loss: 0.6371 - val_acc: 0.7857\n",
            "Epoch 17/50\n",
            "\n",
            "Epoch 00017: LearningRateScheduler setting learning rate to 0.000491481.\n",
            "1562/1562 [==============================] - 20s 13ms/step - loss: 0.4955 - acc: 0.8268 - val_loss: 0.6286 - val_acc: 0.7904\n",
            "Epoch 18/50\n",
            "\n",
            "Epoch 00018: LearningRateScheduler setting learning rate to 0.0004670715.\n",
            "1562/1562 [==============================] - 20s 13ms/step - loss: 0.4858 - acc: 0.8300 - val_loss: 0.6238 - val_acc: 0.7945\n",
            "Epoch 19/50\n",
            "\n",
            "Epoch 00019: LearningRateScheduler setting learning rate to 0.0004449718.\n",
            "1562/1562 [==============================] - 20s 13ms/step - loss: 0.4760 - acc: 0.8321 - val_loss: 0.6453 - val_acc: 0.7832\n",
            "Epoch 20/50\n",
            "\n",
            "Epoch 00020: LearningRateScheduler setting learning rate to 0.000424869.\n",
            "1562/1562 [==============================] - 20s 13ms/step - loss: 0.4717 - acc: 0.8353 - val_loss: 0.6557 - val_acc: 0.7831\n",
            "Epoch 21/50\n",
            "\n",
            "Epoch 00021: LearningRateScheduler setting learning rate to 0.0004065041.\n",
            "1562/1562 [==============================] - 20s 13ms/step - loss: 0.4632 - acc: 0.8394 - val_loss: 0.6363 - val_acc: 0.7896\n",
            "Epoch 22/50\n",
            "\n",
            "Epoch 00022: LearningRateScheduler setting learning rate to 0.000389661.\n",
            "1562/1562 [==============================] - 20s 13ms/step - loss: 0.4545 - acc: 0.8402 - val_loss: 0.6259 - val_acc: 0.7964\n",
            "Epoch 23/50\n",
            "\n",
            "Epoch 00023: LearningRateScheduler setting learning rate to 0.0003741581.\n",
            "1562/1562 [==============================] - 20s 13ms/step - loss: 0.4534 - acc: 0.8422 - val_loss: 0.6253 - val_acc: 0.7903\n",
            "Epoch 24/50\n",
            "\n",
            "Epoch 00024: LearningRateScheduler setting learning rate to 0.0003598417.\n",
            "1562/1562 [==============================] - 20s 13ms/step - loss: 0.4432 - acc: 0.8461 - val_loss: 0.6176 - val_acc: 0.7955\n",
            "Epoch 25/50\n",
            "\n",
            "Epoch 00025: LearningRateScheduler setting learning rate to 0.0003465804.\n",
            "1562/1562 [==============================] - 19s 12ms/step - loss: 0.4421 - acc: 0.8445 - val_loss: 0.6238 - val_acc: 0.7949\n",
            "Epoch 26/50\n",
            "\n",
            "Epoch 00026: LearningRateScheduler setting learning rate to 0.0003342618.\n",
            "1562/1562 [==============================] - 20s 13ms/step - loss: 0.4364 - acc: 0.8477 - val_loss: 0.6270 - val_acc: 0.7954\n",
            "Epoch 27/50\n",
            "\n",
            "Epoch 00027: LearningRateScheduler setting learning rate to 0.0003227889.\n",
            "1562/1562 [==============================] - 20s 13ms/step - loss: 0.4311 - acc: 0.8492 - val_loss: 0.6258 - val_acc: 0.7974\n",
            "Epoch 28/50\n",
            "\n",
            "Epoch 00028: LearningRateScheduler setting learning rate to 0.0003120774.\n",
            "1562/1562 [==============================] - 20s 13ms/step - loss: 0.4261 - acc: 0.8485 - val_loss: 0.6266 - val_acc: 0.7962\n",
            "Epoch 29/50\n",
            "\n",
            "Epoch 00029: LearningRateScheduler setting learning rate to 0.000302054.\n",
            "1562/1562 [==============================] - 20s 12ms/step - loss: 0.4194 - acc: 0.8534 - val_loss: 0.6281 - val_acc: 0.7950\n",
            "Epoch 30/50\n",
            "\n",
            "Epoch 00030: LearningRateScheduler setting learning rate to 0.0002926544.\n",
            "1562/1562 [==============================] - 20s 13ms/step - loss: 0.4216 - acc: 0.8511 - val_loss: 0.6189 - val_acc: 0.7974\n",
            "Epoch 31/50\n",
            "\n",
            "Epoch 00031: LearningRateScheduler setting learning rate to 0.0002838221.\n",
            "1562/1562 [==============================] - 20s 13ms/step - loss: 0.4189 - acc: 0.8516 - val_loss: 0.6247 - val_acc: 0.7987\n",
            "Epoch 32/50\n",
            "\n",
            "Epoch 00032: LearningRateScheduler setting learning rate to 0.0002755074.\n",
            "1562/1562 [==============================] - 20s 13ms/step - loss: 0.4106 - acc: 0.8566 - val_loss: 0.6221 - val_acc: 0.7993\n",
            "Epoch 33/50\n",
            "\n",
            "Epoch 00033: LearningRateScheduler setting learning rate to 0.000267666.\n",
            "1562/1562 [==============================] - 19s 12ms/step - loss: 0.4104 - acc: 0.8543 - val_loss: 0.6187 - val_acc: 0.7982\n",
            "Epoch 34/50\n",
            "\n",
            "Epoch 00034: LearningRateScheduler setting learning rate to 0.0002602585.\n",
            "1562/1562 [==============================] - 20s 13ms/step - loss: 0.4046 - acc: 0.8559 - val_loss: 0.6287 - val_acc: 0.7945\n",
            "Epoch 35/50\n",
            "\n",
            "Epoch 00035: LearningRateScheduler setting learning rate to 0.00025325.\n",
            "1562/1562 [==============================] - 20s 13ms/step - loss: 0.4007 - acc: 0.8580 - val_loss: 0.6215 - val_acc: 0.7998\n",
            "Epoch 36/50\n",
            "\n",
            "Epoch 00036: LearningRateScheduler setting learning rate to 0.0002466091.\n",
            "1562/1562 [==============================] - 19s 12ms/step - loss: 0.3981 - acc: 0.8597 - val_loss: 0.6217 - val_acc: 0.7991\n",
            "Epoch 37/50\n",
            "\n",
            "Epoch 00037: LearningRateScheduler setting learning rate to 0.0002403076.\n",
            "1562/1562 [==============================] - 20s 13ms/step - loss: 0.3933 - acc: 0.8607 - val_loss: 0.6204 - val_acc: 0.8022\n",
            "Epoch 38/50\n",
            "\n",
            "Epoch 00038: LearningRateScheduler setting learning rate to 0.0002343201.\n",
            "1562/1562 [==============================] - 20s 13ms/step - loss: 0.3881 - acc: 0.8620 - val_loss: 0.6343 - val_acc: 0.7983\n",
            "Epoch 39/50\n",
            "\n",
            "Epoch 00039: LearningRateScheduler setting learning rate to 0.0002286237.\n",
            "1562/1562 [==============================] - 19s 12ms/step - loss: 0.3928 - acc: 0.8607 - val_loss: 0.6202 - val_acc: 0.8029\n",
            "Epoch 40/50\n",
            "\n",
            "Epoch 00040: LearningRateScheduler setting learning rate to 0.0002231977.\n",
            "1562/1562 [==============================] - 20s 13ms/step - loss: 0.3826 - acc: 0.8644 - val_loss: 0.6197 - val_acc: 0.8038\n",
            "Epoch 41/50\n",
            "\n",
            "Epoch 00041: LearningRateScheduler setting learning rate to 0.0002180233.\n",
            "1562/1562 [==============================] - 20s 13ms/step - loss: 0.3873 - acc: 0.8630 - val_loss: 0.6223 - val_acc: 0.8027\n",
            "Epoch 42/50\n",
            "\n",
            "Epoch 00042: LearningRateScheduler setting learning rate to 0.0002130833.\n",
            "1562/1562 [==============================] - 20s 13ms/step - loss: 0.3768 - acc: 0.8676 - val_loss: 0.6267 - val_acc: 0.8034\n",
            "Epoch 43/50\n",
            "\n",
            "Epoch 00043: LearningRateScheduler setting learning rate to 0.0002083623.\n",
            "1562/1562 [==============================] - 20s 13ms/step - loss: 0.3803 - acc: 0.8663 - val_loss: 0.6235 - val_acc: 0.8029\n",
            "Epoch 44/50\n",
            "\n",
            "Epoch 00044: LearningRateScheduler setting learning rate to 0.0002038459.\n",
            "1562/1562 [==============================] - 20s 13ms/step - loss: 0.3785 - acc: 0.8653 - val_loss: 0.6286 - val_acc: 0.8017\n",
            "Epoch 45/50\n",
            "\n",
            "Epoch 00045: LearningRateScheduler setting learning rate to 0.0001995211.\n",
            "1562/1562 [==============================] - 20s 13ms/step - loss: 0.3742 - acc: 0.8687 - val_loss: 0.6222 - val_acc: 0.8032\n",
            "Epoch 46/50\n",
            "\n",
            "Epoch 00046: LearningRateScheduler setting learning rate to 0.0001953761.\n",
            "1562/1562 [==============================] - 20s 13ms/step - loss: 0.3734 - acc: 0.8690 - val_loss: 0.6253 - val_acc: 0.8018\n",
            "Epoch 47/50\n",
            "\n",
            "Epoch 00047: LearningRateScheduler setting learning rate to 0.0001913998.\n",
            "1562/1562 [==============================] - 20s 13ms/step - loss: 0.3680 - acc: 0.8697 - val_loss: 0.6231 - val_acc: 0.8059\n",
            "Epoch 48/50\n",
            "\n",
            "Epoch 00048: LearningRateScheduler setting learning rate to 0.0001875821.\n",
            "1562/1562 [==============================] - 20s 13ms/step - loss: 0.3694 - acc: 0.8696 - val_loss: 0.6297 - val_acc: 0.8035\n",
            "Epoch 49/50\n",
            "\n",
            "Epoch 00049: LearningRateScheduler setting learning rate to 0.0001839137.\n",
            "1562/1562 [==============================] - 20s 13ms/step - loss: 0.3665 - acc: 0.8707 - val_loss: 0.6218 - val_acc: 0.8064\n",
            "Epoch 50/50\n",
            "\n",
            "Epoch 00050: LearningRateScheduler setting learning rate to 0.000180386.\n",
            "1562/1562 [==============================] - 20s 13ms/step - loss: 0.3660 - acc: 0.8708 - val_loss: 0.6284 - val_acc: 0.8054\n",
            "Model took 983.42 seconds to train\n"
          ],
          "name": "stdout"
        },
        {
          "output_type": "display_data",
          "data": {
            "image/png": "[encoded data removed]",
            "text/plain": [
              "<Figure size 1080x360 with 2 Axes>"
            ]
          },
          "metadata": {
            "tags": []
          }
        },
        {
          "output_type": "stream",
          "text": [
            "Accuracy on test data is: 80.54\n"
          ],
          "name": "stdout"
        }
      ]
    }
  ]
}